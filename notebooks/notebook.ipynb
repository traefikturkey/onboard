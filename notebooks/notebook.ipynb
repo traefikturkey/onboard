{
 "cells": [
  {
   "cell_type": "code",
   "execution_count": 22,
   "metadata": {},
   "outputs": [
    {
     "name": "stdout",
     "output_type": "stream",
     "text": [
      "['/workspaces/onboard/app', '/dependencies', '/usr/local/lib/python312.zip', '/usr/local/lib/python3.12', '/usr/local/lib/python3.12/lib-dynload', '', '/home/anvil/.local/lib/python3.12/site-packages', '/usr/local/lib/python3.12/site-packages']\n",
      "/workspaces/onboard/app\n"
     ]
    }
   ],
   "source": [
    "import sys\n",
    "print(sys.path)\n",
    "\n",
    "import os\n",
    "\n",
    "# get the current working directory\n",
    "current_working_directory = os.getcwd()\n",
    "\n",
    "# print output to the console\n",
    "print(current_working_directory)"
   ]
  },
  {
   "cell_type": "code",
   "execution_count": 1,
   "metadata": {},
   "outputs": [
    {
     "name": "stdout",
     "output_type": "stream",
     "text": [
      "hello world\n"
     ]
    }
   ],
   "source": [
    "import importlib\n",
    "\n",
    "def load_class(module_name, class_name):\n",
    "    module = importlib.import_module(f\"{module_name}.{class_name}\")\n",
    "    cls = getattr(module, ''.join(word.title() for word in class_name.split('_')) )\n",
    "    instance = cls()\n",
    "    return instance\n",
    "\n",
    "\n",
    "# Example usage:\n",
    "instance = load_class(\"processors\", \"cafe_hayek\")\n",
    "if instance:\n",
    "    result = instance.process(\"hello world\")\n",
    "    print(result)\n"
   ]
  },
  {
   "cell_type": "code",
   "execution_count": null,
   "metadata": {},
   "outputs": [
    {
     "name": "stdout",
     "output_type": "stream",
     "text": [
      "Random number: 9830\n"
     ]
    }
   ],
   "source": [
    "import random\n",
    "\n",
    "random_number = random.randint(5001, 9998)\n",
    "print(\"Random number:\", random_number)"
   ]
  },
  {
   "cell_type": "code",
   "execution_count": 5,
   "metadata": {},
   "outputs": [
    {
     "name": "stdout",
     "output_type": "stream",
     "text": [
      "42\n"
     ]
    }
   ],
   "source": [
    "async def nested():\n",
    "    return 42\n",
    "\n",
    "async def main():\n",
    "\n",
    "    # Let's do it differently now and await it:\n",
    "    print(await nested())  # will print \"42\".\n",
    "    \n",
    "await main()"
   ]
  },
  {
   "cell_type": "code",
   "execution_count": 5,
   "metadata": {},
   "outputs": [
    {
     "name": "stdout",
     "output_type": "stream",
     "text": [
      "\n",
      "===============================================================\n"
     ]
    },
    {
     "data": {
      "text/plain": [
       "''"
      ]
     },
     "execution_count": 5,
     "metadata": {},
     "output_type": "execute_result"
    }
   ],
   "source": [
    "from bs4 import BeautifulSoup\n",
    "import html\n",
    "import re\n",
    "    \n",
    "def clean_html(text):\n",
    "  text = text.replace('\\n', ' ').replace('\\r', ' ').strip()\n",
    "  \n",
    "  \n",
    "  \n",
    "  print(text)\n",
    "  print(\"===============================================================\")\n",
    "  \n",
    "  text = BeautifulSoup(html.unescape(text), 'lxml').text\n",
    "  text = re.sub(r'\\[.*?\\].*$', '', text)\n",
    "  # text = re.sub(r'http[s]?://\\S+', '', text, flags=re.IGNORECASE)\n",
    "  # text = ' '.join([x.capitalize() for x in text.split(' ')])\n",
    "\n",
    "  return text.strip()\n",
    "\n",
    "clean_html(\"\")"
   ]
  },
  {
   "cell_type": "code",
   "execution_count": 2,
   "metadata": {},
   "outputs": [
    {
     "ename": "NameError",
     "evalue": "name 'load_file' is not defined",
     "output_type": "error",
     "traceback": [
      "\u001b[31m---------------------------------------------------------------------------\u001b[39m",
      "\u001b[31mNameError\u001b[39m                                 Traceback (most recent call last)",
      "\u001b[36mCell\u001b[39m\u001b[36m \u001b[39m\u001b[32mIn[2]\u001b[39m\u001b[32m, line 71\u001b[39m\n\u001b[32m     68\u001b[39m     column.sort(key = \u001b[38;5;28;01mlambda\u001b[39;00m x: x[\u001b[33m'\u001b[39m\u001b[33mposition\u001b[39m\u001b[33m'\u001b[39m])\n\u001b[32m     69\u001b[39m   \u001b[38;5;28mprint\u001b[39m(\u001b[33mf\u001b[39m\u001b[33m\"\u001b[39m\u001b[33msorting => \u001b[39m\u001b[38;5;132;01m{\u001b[39;00m(time.time()\u001b[38;5;250m \u001b[39m-\u001b[38;5;250m \u001b[39mstart_time)\u001b[38;5;132;01m}\u001b[39;00m\u001b[33m seconds\u001b[39m\u001b[33m\"\u001b[39m)\n\u001b[32m---> \u001b[39m\u001b[32m71\u001b[39m \u001b[38;5;28;01mawait\u001b[39;00m index()\n",
      "\u001b[36mCell\u001b[39m\u001b[36m \u001b[39m\u001b[32mIn[2]\u001b[39m\u001b[32m, line 26\u001b[39m, in \u001b[36mindex\u001b[39m\u001b[34m(tab_name)\u001b[39m\n\u001b[32m     24\u001b[39m start_time = time.time()\n\u001b[32m     25\u001b[39m \u001b[38;5;66;03m# Load feeds and bookmarks\u001b[39;00m\n\u001b[32m---> \u001b[39m\u001b[32m26\u001b[39m layout = \u001b[43mload_file\u001b[49m(\u001b[33m'\u001b[39m\u001b[33mlayout.yml\u001b[39m\u001b[33m'\u001b[39m)\n\u001b[32m     27\u001b[39m headers = layout[\u001b[33m'\u001b[39m\u001b[33mheaders\u001b[39m\u001b[33m'\u001b[39m]\n\u001b[32m     29\u001b[39m tabs = layout[\u001b[33m'\u001b[39m\u001b[33mtabs\u001b[39m\u001b[33m'\u001b[39m]\n",
      "\u001b[31mNameError\u001b[39m: name 'load_file' is not defined"
     ]
    }
   ],
   "source": [
    "import aiohttp\n",
    "import asyncio\n",
    "\n",
    "import time\n",
    "#from utils import clean_html, copy_default_to_configs, load_file\n",
    "import feedparser\n",
    "#from post_processor import post_processor\n",
    "\n",
    "async def load_feed(widget, column):\n",
    "  start_time = time.time()\n",
    "  async with aiohttp.ClientSession() as session:\n",
    "    async with session.get(widget['url']) as response:\n",
    "      parsed_feed = feedparser.parse(await response.text())\n",
    "      widget['summary_enabled'] = widget.get('summary_enabled', True)\n",
    "      widget['articles'] = [{\n",
    "          'title': \" \".join(entry.get('title', 'No Title').split()).strip() , \n",
    "          'link': entry.link, \n",
    "          'summary': clean_html(entry.get('summary', ''))} for entry in parsed_feed.entries[:10]] if 'entries' in parsed_feed else []\n",
    "      widget = post_processor.process(widget['name'], widget)\n",
    "      column.append(widget)\n",
    "      return (time.time() - start_time)\n",
    "\n",
    "async def index(tab_name=None):\n",
    "  start_time = time.time()\n",
    "  # Load feeds and bookmarks\n",
    "  layout = load_file('layout.yml')\n",
    "  headers = layout['headers']\n",
    "  \n",
    "  tabs = layout['tabs']\n",
    "  if tab_name is None:\n",
    "    tab = tabs[0]\n",
    "  else:\n",
    "    tab = next((tab for tab in tabs if tab[\"name\"].lower() == tab_name.lower()), tabs[0])\n",
    "  current_tab = tab['name']\n",
    "  \n",
    "  column_count = tab['columns']\n",
    "  columns = [[] for _ in range(column_count)]\n",
    "  \n",
    "  tasks = []\n",
    "  \n",
    "  print(f\"loading => {(time.time() - start_time)} seconds\")\n",
    "  \n",
    "  start_time = time.time()\\\n",
    "  # Add feeds to the appropriate column\n",
    "  if tab['widgets']:\n",
    "    for widget in tab['widgets']:\n",
    "      column_index = (widget['column'] - 1) % column_count\n",
    "      if widget['type'] == 'feed':\n",
    "        task = asyncio.create_task(load_feed(widget, columns[column_index]))\n",
    "        task.add_done_callback(lambda t: print(f'{t.result()}'))\n",
    "        tasks.append(task)\n",
    "      elif widget['type'] == 'bookmarks':\n",
    "        widget['articles'] = [{'title': entry['title'], 'link': entry['url']} for entry in widget['bookmarks']]\n",
    "        columns[column_index].append(widget) \n",
    "  \n",
    "  print(f\"looping => {(time.time() - start_time)} seconds\")\n",
    "  start_time = time.time()      \n",
    "  await asyncio.wait(tasks)\n",
    "  print(f\"waiting => {(time.time() - start_time)} seconds\")\n",
    "  \n",
    "  result = 0\n",
    "  for task in tasks:\n",
    "    result += task.result()\n",
    "  print(f\"total => {result} seconds\")\n",
    "  \n",
    "  start_time = time.time()\n",
    "  for column in columns:\n",
    "    column.sort(key = lambda x: x['position'])\n",
    "  print(f\"sorting => {(time.time() - start_time)} seconds\")\n",
    "\n",
    "await index()"
   ]
  },
  {
   "cell_type": "code",
   "execution_count": 5,
   "metadata": {},
   "outputs": [],
   "source": [
    "#from utils import load_file\n",
    "from types import SimpleNamespace\n",
    "from yamlpath.common import Parsers\n",
    "from yamlpath.wrappers import ConsolePrinter\n",
    "from yamlpath import Processor\n",
    "\n",
    "logging_args = SimpleNamespace(quiet=True, verbose=False, debug=False)\n",
    "log = ConsolePrinter(logging_args)\n",
    "parser = Parsers.get_yaml_editor()\n",
    "\n",
    "# At this point, you'd load or parse your YAML file, stream, or string.  This\n",
    "# example demonstrates loading YAML data from an external file.  You could also\n",
    "# use the same function to load data from STDIN or even a String variable.  See\n",
    "# the Parser class for more detail.\n",
    "yaml_file = \"../app/configs/layout.yml\"\n",
    "(yaml_data, doc_loaded) = Parsers.get_yaml_data(parser, log, yaml_file)\n",
    "if not doc_loaded:\n",
    "    # There was an issue loading the file; an error message has already been\n",
    "    # printed via ConsolePrinter.\n",
    "    exit(1)\n",
    "\n",
    "# Pass the logging facility and parsed YAML data to the YAMLPath Processor\n",
    "processor = Processor(log, yaml_data)\n"
   ]
  },
  {
   "cell_type": "code",
   "execution_count": 4,
   "metadata": {},
   "outputs": [],
   "source": [
    "from yamlpath import YAMLPath\n",
    "from yamlpath.exceptions import YAMLPathException\n",
    "\n",
    "yaml_path = YAMLPath(\"/tabs/*/widgets[name = 'Cafe Hayek']\")\n",
    "try:\n",
    "    for node_coordinate in processor.get_nodes(yaml_path, return_coordinates=True, return_node=True, mustexist=True):\n",
    "        print(\"Got {} from '{}'.\".format(node_coordinate, yaml_path))\n",
    "        # Do something with each node_coordinate.node (the actual data)\n",
    "except YAMLPathException as ex:\n",
    "    # If merely retrieving data, this exception may be deemed non-critical\n",
    "    # unless your later code absolutely depends upon a result.\n",
    "    log.error(ex)"
   ]
  }
 ],
 "metadata": {
  "kernelspec": {
   "display_name": "onboard",
   "language": "python",
   "name": "python3"
  },
  "language_info": {
   "codemirror_mode": {
    "name": "ipython",
    "version": 3
   },
   "file_extension": ".py",
   "mimetype": "text/x-python",
   "name": "python",
   "nbconvert_exporter": "python",
   "pygments_lexer": "ipython3",
   "version": "3.12.11"
  }
 },
 "nbformat": 4,
 "nbformat_minor": 2
}
