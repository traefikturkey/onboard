{
 "cells": [
  {
   "cell_type": "code",
   "execution_count": 20,
   "metadata": {},
   "outputs": [
    {
     "name": "stderr",
     "output_type": "stream",
     "text": [
      "DEBUG:services.bookmark_bar_manager:Beginning Bookmark Bar reload...\n"
     ]
    },
    {
     "name": "stderr",
     "output_type": "stream",
     "text": [
      "DEBUG:services.bookmark_bar_manager:Completed Bookmark Bar reload!\n",
      "DEBUG:app.models.layout:Beginning Layout reload...\n",
      "DEBUG:app.models.layout:Beginning Layout reload...\n",
      "DEBUG:app.models.layout:Completed Layout reload!\n",
      "DEBUG:app.models.layout:Completed Layout reload!\n"
     ]
    }
   ],
   "source": [
    "\n",
    "import sys\n",
    "from pathlib import Path\n",
    "\n",
    "\n",
    "repo_root = Path.cwd().parent\n",
    "sys.path.insert(0, str(repo_root))\n",
    "\n",
    "\n",
    "\n",
    "layout = Layout()\n"
   ]
  },
  {
   "cell_type": "code",
   "execution_count": 2,
   "metadata": {},
   "outputs": [
    {
     "name": "stdout",
     "output_type": "stream",
     "text": [
      "Here’s a letter to the Wall St\n",
      "George Will continues to warn \n",
      "is from page 291 of GMU Econ a\n",
      "In my latest column for AIER, \n",
      "Although I detest everything a\n",
      "is from page 422 of Robert Bor\n",
      "Richard Epstein and John Yoo c\n",
      "is from page 128 of David Schm\n",
      "Arnold Kling is understandably\n",
      "is from page 205 of the origin\n"
     ]
    }
   ],
   "source": [
    "for tab in layout.tabs: \n",
    "\tfor row in tab.rows:\n",
    "\t\tfor column in row.columns:\n",
    "\t\t\tfor widget in column.widgets:\n",
    "\t\t\t\tif widget.type == 'feed' and widget.name == 'Cafe Hayek':\n",
    "\t\t\t\t\tfor article in widget:\n",
    "\t\t\t\t\t\tprint(article.summary[:30])\n",
    "\n"
   ]
  },
  {
   "cell_type": "code",
   "execution_count": 1,
   "metadata": {},
   "outputs": [],
   "source": [
    "import datetime\n",
    "\n",
    "def mean_time_between_updates(datetime_list):\n",
    "    \"\"\"\n",
    "    Calculates the mean time between updates given a list of datetime objects.\n",
    "    \n",
    "    Parameters:\n",
    "    datetime_list (list): A list of datetime objects.\n",
    "    \n",
    "    Returns:\n",
    "    datetime.timedelta: The mean time between updates.\n",
    "    \"\"\"\n",
    "    if len(datetime_list) < 2:\n",
    "        return None\n",
    "    \n",
    "    datetime_list.sort()\n",
    "    \n",
    "    time_deltas = [datetime_list[i] - datetime_list[i-1] for i in range(1, len(datetime_list))]\n",
    "    \n",
    "    mean_delta = sum(time_deltas, datetime.timedelta()) / len(time_deltas)\n",
    "    \n",
    "    return mean_delta"
   ]
  },
  {
   "cell_type": "code",
   "execution_count": 29,
   "metadata": {},
   "outputs": [
    {
     "data": {
      "text/html": [
       "<div>\n",
       "<style scoped>\n",
       "    .dataframe tbody tr th:only-of-type {\n",
       "        vertical-align: middle;\n",
       "    }\n",
       "\n",
       "    .dataframe tbody tr th {\n",
       "        vertical-align: top;\n",
       "    }\n",
       "\n",
       "    .dataframe thead th {\n",
       "        text-align: right;\n",
       "    }\n",
       "</style>\n",
       "<table border=\"1\" class=\"dataframe\">\n",
       "  <thead>\n",
       "    <tr style=\"text-align: right;\">\n",
       "      <th></th>\n",
       "      <th>Name</th>\n",
       "      <th>delta</th>\n",
       "    </tr>\n",
       "  </thead>\n",
       "  <tbody>\n",
       "    <tr>\n",
       "      <th>0</th>\n",
       "      <td>Lawrence Person's BattleSwarm Blog</td>\n",
       "      <td>21:40:00</td>\n",
       "    </tr>\n",
       "    <tr>\n",
       "      <th>1</th>\n",
       "      <td>Cafe Hayek</td>\n",
       "      <td>08:28:00</td>\n",
       "    </tr>\n",
       "    <tr>\n",
       "      <th>2</th>\n",
       "      <td>Slashdot</td>\n",
       "      <td>02:04:00</td>\n",
       "    </tr>\n",
       "    <tr>\n",
       "      <th>3</th>\n",
       "      <td>Real Clear Politics</td>\n",
       "      <td>01:04:00</td>\n",
       "    </tr>\n",
       "    <tr>\n",
       "      <th>4</th>\n",
       "      <td>Instapundit</td>\n",
       "      <td>00:25:00</td>\n",
       "    </tr>\n",
       "    <tr>\n",
       "      <th>5</th>\n",
       "      <td>Twitchy</td>\n",
       "      <td>01:17:00</td>\n",
       "    </tr>\n",
       "    <tr>\n",
       "      <th>6</th>\n",
       "      <td>Hacker News</td>\n",
       "      <td>00:51:00</td>\n",
       "    </tr>\n",
       "    <tr>\n",
       "      <th>7</th>\n",
       "      <td>Selfhosted - Rising</td>\n",
       "      <td>01:07:00</td>\n",
       "    </tr>\n",
       "    <tr>\n",
       "      <th>8</th>\n",
       "      <td>Selfhosted - Top Today</td>\n",
       "      <td>01:13:00</td>\n",
       "    </tr>\n",
       "  </tbody>\n",
       "</table>\n",
       "</div>"
      ],
      "text/plain": [
       "                                 Name     delta\n",
       "0  Lawrence Person's BattleSwarm Blog  21:40:00\n",
       "1                          Cafe Hayek  08:28:00\n",
       "2                            Slashdot  02:04:00\n",
       "3                 Real Clear Politics  01:04:00\n",
       "4                         Instapundit  00:25:00\n",
       "5                             Twitchy  01:17:00\n",
       "6                         Hacker News  00:51:00\n",
       "7                 Selfhosted - Rising  01:07:00\n",
       "8              Selfhosted - Top Today  01:13:00"
      ]
     },
     "execution_count": 29,
     "metadata": {},
     "output_type": "execute_result"
    }
   ],
   "source": [
    "import pandas as pd\n",
    "data = []\n",
    "for tab in layout.tabs: \n",
    "\tfor row in tab.rows:\n",
    "\t\tfor column in row.columns:\n",
    "\t\t\tfor widget in column.widgets:\n",
    "\t\t\t\tif widget.type == 'feed':\n",
    "\t\t\t\t\tarticles = []\n",
    "\t\t\t\t\tfor article in widget.all_items:\n",
    "\t\t\t\t\t\tarticles.append(article.pub_date)\n",
    "      \n",
    "\t\t\t\t\tmean_delta = mean_time_between_updates(articles)\n",
    "\t\t\t\t\tdata.append([widget.name, mean_delta])\n",
    "\n",
    "df = pd.DataFrame(data, columns=[\"Name\", \"delta\"])\n",
    "df['delta'] = df['delta'].dt.round('min')\n",
    "\n",
    "def format_timedelta(td):\n",
    "    total_seconds = td.total_seconds()\n",
    "    days, remainder = divmod(total_seconds, 86400)\n",
    "    hours, remainder = divmod(remainder, 3600)\n",
    "    minutes, seconds = divmod(remainder, 60)\n",
    "    \n",
    "    if days == 0:\n",
    "        return f\"{int(hours):02}:{int(minutes):02}:{int(seconds):02}\"\n",
    "    else:\n",
    "        return f\"{int(days)} days {int(hours):02}:{int(minutes):02}:{int(seconds):02}\"\n",
    "\n",
    "# Apply the custom function to the 'delta' column\n",
    "df['delta'] = df['delta'].apply(format_timedelta)\n",
    "\n",
    "df\n"
   ]
  },
  {
   "cell_type": "code",
   "execution_count": 7,
   "metadata": {},
   "outputs": [
    {
     "name": "stdout",
     "output_type": "stream",
     "text": [
      "        timedelta\n",
      "0 1 days 00:00:00\n",
      "1 0 days 01:00:00\n",
      "2 0 days 00:01:00\n"
     ]
    }
   ],
   "source": [
    "import pandas as pd\n",
    "\n",
    "# Create a pandas dataframe with a timedelta column\n",
    "df = pd.DataFrame({'timedelta': [pd.Timedelta(days=1), pd.Timedelta(hours=1), pd.Timedelta(minutes=1)]})\n",
    "\n",
    "# Limit the resolution of the timedelta column to minutes\n",
    "df['timedelta'] = df['timedelta'].dt.floor('min')\n",
    "\n",
    "# Print the dataframe\n",
    "print(df)"
   ]
  }
 ],
 "metadata": {
  "kernelspec": {
   "display_name": "onboard",
   "language": "python",
   "name": "python3"
  },
  "language_info": {
   "codemirror_mode": {
    "name": "ipython",
    "version": 3
   },
   "file_extension": ".py",
   "mimetype": "text/x-python",
   "name": "python",
   "nbconvert_exporter": "python",
   "pygments_lexer": "ipython3",
   "version": "3.12.11"
  }
 },
 "nbformat": 4,
 "nbformat_minor": 2
}
